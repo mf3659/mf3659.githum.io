{
 "cells": [
  {
   "cell_type": "markdown",
   "id": "9135c6c5",
   "metadata": {},
   "source": [
    "# Lecture 16 Example"
   ]
  },
  {
   "cell_type": "code",
   "execution_count": 12,
   "id": "20d0ffb9",
   "metadata": {},
   "outputs": [
    {
     "data": {
      "text/plain": [
       "2"
      ]
     },
     "execution_count": 12,
     "metadata": {},
     "output_type": "execute_result"
    }
   ],
   "source": [
    "1+1"
   ]
  },
  {
   "cell_type": "code",
   "execution_count": 13,
   "id": "a3bb06e9",
   "metadata": {},
   "outputs": [
    {
     "name": "stdout",
     "output_type": "stream",
     "text": [
      "Hello World!\n"
     ]
    }
   ],
   "source": [
    "msg=\"Hello World!\"\n",
    "print(msg)"
   ]
  },
  {
   "cell_type": "markdown",
   "id": "c015f572",
   "metadata": {},
   "source": [
    "# Lecture 16 Example\n"
   ]
  }
 ],
 "metadata": {
  "kernelspec": {
   "display_name": ".venv",
   "language": "python",
   "name": "python3"
  },
  "language_info": {
   "codemirror_mode": {
    "name": "ipython",
    "version": 3
   },
   "file_extension": ".py",
   "mimetype": "text/x-python",
   "name": "python",
   "nbconvert_exporter": "python",
   "pygments_lexer": "ipython3",
   "version": "3.13.7"
  }
 },
 "nbformat": 4,
 "nbformat_minor": 5
}
